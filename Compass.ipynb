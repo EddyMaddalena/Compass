{
 "cells": [
  {
   "cell_type": "code",
   "execution_count": 1,
   "id": "670014ba-cfae-4eb3-941d-22f5e07c9b11",
   "metadata": {
    "editable": true,
    "slideshow": {
     "slide_type": "skip"
    },
    "tags": []
   },
   "outputs": [],
   "source": [
    "import seaborn as sns \n",
    "import pandas as pd\n",
    "import numpy as np\n",
    "\n",
    "import matplotlib.pyplot as plt\n",
    "import matplotlib.ticker as ticker\n",
    "import random\n",
    "\n",
    "import ipywidgets as widgets\n",
    "from ipywidgets import interactive\n",
    "\n",
    "sns.set(style=\"whitegrid\", font_scale = .9)\n",
    "palette = sns.color_palette(\"deep\")\n",
    "\n",
    "LIGHT_GREY = '#e8e8e8'\n",
    "\n",
    "SLIDER_VARIANCE = widgets.FloatSlider(\n",
    "    value = 1,\n",
    "    min = 0.0,\n",
    "    max = 3,\n",
    "    step =.1,\n",
    "    description = 'Sigma:',\n",
    "    continuous_update = False,\n",
    "    layout = widgets.Layout(width='400px')\n",
    ")\n",
    "\n",
    "SLIDER_POITS = widgets.IntSlider(\n",
    "    value = 3,\n",
    "    min = 1,\n",
    "    max = 30,\n",
    "    step = 1 ,\n",
    "    description = 'Points:',\n",
    "    continuous_update = False,\n",
    "    layout = widgets.Layout(width='400px')\n",
    ")"
   ]
  },
  {
   "cell_type": "code",
   "execution_count": 2,
   "id": "8bd203f8-7864-4d04-a7ff-7901051bfd87",
   "metadata": {
    "editable": true,
    "slideshow": {
     "slide_type": "skip"
    },
    "tags": []
   },
   "outputs": [],
   "source": [
    "PARTYS = {\n",
    "    \"FDI\": {\n",
    "        \"Economic\" : 5.5,\n",
    "        \"Social\" : 8.5,\n",
    "        \"Color\" : \"#004070\" \n",
    "    },\n",
    "    \"PD\": {\n",
    "        \"Economic\" : 2.5,\n",
    "        \"Social\" : 1,\n",
    "        \"Color\" : \"#E21C23\"\n",
    "    },\n",
    "    \"M5S\": {\n",
    "        \"Economic\" : 4,\n",
    "        \"Social\" : 3.5,\n",
    "        \"Color\" : \"#f9be2c\"\n",
    "    },\n",
    "    \"FI\": {\n",
    "        \"Economic\" : 7,\n",
    "        \"Social\" : 6,\n",
    "        \"Color\" : \"#0C61A1\"\n",
    "    },\n",
    "    \"Lega\": {\n",
    "        \"Economic\" : 8,\n",
    "        \"Social\" : 7,\n",
    "        \"Color\" : \"#00A14F\"\n",
    "    },\n",
    "    \"AVS\": {\n",
    "        \"Economic\" : -3.3, \n",
    "        \"Social\" : -4,\n",
    "        \"Color\" : \"#50B566\"\n",
    "    }\n",
    "}"
   ]
  },
  {
   "cell_type": "code",
   "execution_count": 3,
   "id": "19a95533-70b4-4811-8cb8-301c275a6171",
   "metadata": {
    "editable": true,
    "slideshow": {
     "slide_type": "skip"
    },
    "tags": []
   },
   "outputs": [
    {
     "data": {
      "text/plain": [
       "{'FDI': '#004070',\n",
       " 'PD': '#E21C23',\n",
       " 'M5S': '#f9be2c',\n",
       " 'FI': '#0C61A1',\n",
       " 'Lega': '#00A14F',\n",
       " 'AVS': '#50B566'}"
      ]
     },
     "execution_count": 3,
     "metadata": {},
     "output_type": "execute_result"
    }
   ],
   "source": [
    "PARTY_COLORS = {party: details[\"Color\"] for party, details in PARTYS.items()}\n",
    "\n",
    "PARTY_COLORS"
   ]
  },
  {
   "cell_type": "code",
   "execution_count": 4,
   "id": "1612adf7-72cb-4dc5-8f8a-0c007fab5ee6",
   "metadata": {
    "editable": true,
    "slideshow": {
     "slide_type": "skip"
    },
    "tags": []
   },
   "outputs": [
    {
     "data": {
      "text/html": [
       "<div>\n",
       "<style scoped>\n",
       "    .dataframe tbody tr th:only-of-type {\n",
       "        vertical-align: middle;\n",
       "    }\n",
       "\n",
       "    .dataframe tbody tr th {\n",
       "        vertical-align: top;\n",
       "    }\n",
       "\n",
       "    .dataframe thead th {\n",
       "        text-align: right;\n",
       "    }\n",
       "</style>\n",
       "<table border=\"1\" class=\"dataframe\">\n",
       "  <thead>\n",
       "    <tr style=\"text-align: right;\">\n",
       "      <th></th>\n",
       "      <th>Name</th>\n",
       "      <th>Economic</th>\n",
       "      <th>Social</th>\n",
       "      <th>Color</th>\n",
       "    </tr>\n",
       "  </thead>\n",
       "  <tbody>\n",
       "    <tr>\n",
       "      <th>0</th>\n",
       "      <td>FDI</td>\n",
       "      <td>5.5</td>\n",
       "      <td>8.5</td>\n",
       "      <td>#004070</td>\n",
       "    </tr>\n",
       "    <tr>\n",
       "      <th>1</th>\n",
       "      <td>PD</td>\n",
       "      <td>2.5</td>\n",
       "      <td>1</td>\n",
       "      <td>#E21C23</td>\n",
       "    </tr>\n",
       "    <tr>\n",
       "      <th>2</th>\n",
       "      <td>M5S</td>\n",
       "      <td>4</td>\n",
       "      <td>3.5</td>\n",
       "      <td>#f9be2c</td>\n",
       "    </tr>\n",
       "    <tr>\n",
       "      <th>3</th>\n",
       "      <td>FI</td>\n",
       "      <td>7</td>\n",
       "      <td>6</td>\n",
       "      <td>#0C61A1</td>\n",
       "    </tr>\n",
       "    <tr>\n",
       "      <th>4</th>\n",
       "      <td>Lega</td>\n",
       "      <td>8</td>\n",
       "      <td>7</td>\n",
       "      <td>#00A14F</td>\n",
       "    </tr>\n",
       "    <tr>\n",
       "      <th>5</th>\n",
       "      <td>AVS</td>\n",
       "      <td>-3.3</td>\n",
       "      <td>-4</td>\n",
       "      <td>#50B566</td>\n",
       "    </tr>\n",
       "  </tbody>\n",
       "</table>\n",
       "</div>"
      ],
      "text/plain": [
       "   Name Economic Social    Color\n",
       "0   FDI      5.5    8.5  #004070\n",
       "1    PD      2.5      1  #E21C23\n",
       "2   M5S        4    3.5  #f9be2c\n",
       "3    FI        7      6  #0C61A1\n",
       "4  Lega        8      7  #00A14F\n",
       "5   AVS     -3.3     -4  #50B566"
      ]
     },
     "execution_count": 4,
     "metadata": {},
     "output_type": "execute_result"
    }
   ],
   "source": [
    "df = pd.DataFrame.from_dict(PARTYS).T.reset_index()\n",
    "df.rename(columns={\"index\": \"Name\"}, inplace = True)\n",
    "df\n"
   ]
  },
  {
   "cell_type": "code",
   "execution_count": 6,
   "id": "340dd7ed-d251-4713-bb19-123be1ba88e3",
   "metadata": {
    "editable": true,
    "slideshow": {
     "slide_type": "slide"
    },
    "tags": []
   },
   "outputs": [
    {
     "data": {
      "application/vnd.jupyter.widget-view+json": {
       "model_id": "49ca89d741924a9493901b273a8badf7",
       "version_major": 2,
       "version_minor": 0
      },
      "text/plain": [
       "interactive(children=(FloatSlider(value=1.0, continuous_update=False, description='Sigma:', layout=Layout(widt…"
      ]
     },
     "metadata": {},
     "output_type": "display_data"
    }
   ],
   "source": [
    "mu, sigma = 0 , 2\n",
    "\n",
    "def add_noise(data, v, p):\n",
    "\n",
    "    plt.text( data['Economic'], data['Social'], f\"{data['Name']}  \" , fontsize=12, ha='right', )\n",
    "    \n",
    "    for i in range (p):\n",
    "        x = data['Economic'] + random.gauss(mu, v) \n",
    "        y = data['Social']   + random.gauss(mu, v) \n",
    "\n",
    "        x = np.clip(x, -10, 10)\n",
    "        y = np.clip(y, -10, 10)\n",
    "        \n",
    "        plt.scatter(x, y, color=data['Color'], s = 40, marker='x', alpha=0.7)\n",
    "        \n",
    "\n",
    "def update_plot(variance, num_points):\n",
    "\n",
    "    g = sns.scatterplot(data=df, x=\"Economic\", y=\"Social\", hue = 'Name', palette = PARTY_COLORS, s = 60, ec = 'none')\n",
    "    g.set(ylim=(-10, 10), xlim=(-10, 10))\n",
    "    \n",
    "    plt.axhline(y=0, color=palette[0], linewidth=1.2)\n",
    "    plt.axvline(x=0, color=palette[0], linewidth=1.2)\n",
    "    \n",
    "    plt.gca().set_aspect('equal', adjustable='box')\n",
    "    plt.gca().xaxis.set_major_locator(ticker.MultipleLocator(1))\n",
    "    plt.gca().yaxis.set_major_locator(ticker.MultipleLocator(1))\n",
    "\n",
    "    plt.legend([], [], frameon=False)\n",
    "\n",
    "    df.apply( add_noise, v = variance, p = num_points,  axis = 1)\n",
    "\n",
    "    plt.grid(True, color=LIGHT_GREY)\n",
    "    g.spines['top'].set_color(LIGHT_GREY) \n",
    "    g.spines['right'].set_color(LIGHT_GREY) \n",
    "    g.spines['bottom'].set_color(LIGHT_GREY) \n",
    "    g.spines['left'].set_color(LIGHT_GREY) \n",
    "\n",
    "# Use interactive() to link the slider with the update function\n",
    "interactive_plot = interactive(update_plot, variance=SLIDER_VARIANCE, num_points = SLIDER_POITS)\n",
    "display(interactive_plot)"
   ]
  },
  {
   "cell_type": "markdown",
   "id": "4891b2a9-e33c-4e7f-98a3-25e5f43ffeb5",
   "metadata": {
    "editable": true,
    "slideshow": {
     "slide_type": "skip"
    },
    "tags": [
     "hide_cell_input"
    ]
   },
   "source": [
    "```\n",
    "jupyter nbconvert \\\n",
    "    'pages/Introduzione_a_Python/Compass.ipynb' \\\n",
    "    --Exporter.preprocessors=[\\\"preprocess.Fixing_URLs\\\"] \\\n",
    "    --to slides \\\n",
    "    --post serve \\\n",
    "    --ServePostProcessor.open_in_browser=False \\\n",
    "    --SlidesExporter.reveal_number='c/t' \\\n",
    "    --template=template \\\n",
    "    --SlidesExporter.reveal_scroll=True\n",
    "```"
   ]
  },
  {
   "cell_type": "code",
   "execution_count": null,
   "id": "f0aca29e-67c8-463c-8cd9-370839d28f3f",
   "metadata": {
    "editable": true,
    "slideshow": {
     "slide_type": "skip"
    },
    "tags": []
   },
   "outputs": [],
   "source": []
  }
 ],
 "metadata": {
  "kernelspec": {
   "display_name": "Python 3 (ipykernel)",
   "language": "python",
   "name": "python3"
  },
  "language_info": {
   "codemirror_mode": {
    "name": "ipython",
    "version": 3
   },
   "file_extension": ".py",
   "mimetype": "text/x-python",
   "name": "python",
   "nbconvert_exporter": "python",
   "pygments_lexer": "ipython3",
   "version": "3.9.5"
  }
 },
 "nbformat": 4,
 "nbformat_minor": 5
}
